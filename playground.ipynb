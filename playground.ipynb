{
 "cells": [
  {
   "cell_type": "code",
   "execution_count": null,
   "metadata": {},
   "outputs": [],
   "source": [
    "bebida = input(\"Qual é sua bebida favorita\")\n",
    "preco = float(input(\"Digite o preço\"))\n",
    "idade = int(input(\"digite sua idade\"))\n",
    "\n",
    "print(f\"Bebida favorita é {bebida}\")\n",
    "print(f\"O preço é {preco}\")\n",
    "print(f\"Sua idade é {idade}\")"
   ]
  }
 ],
 "metadata": {
  "language_info": {
   "name": "python"
  }
 },
 "nbformat": 4,
 "nbformat_minor": 2
}
