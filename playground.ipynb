{
 "cells": [
  {
   "cell_type": "code",
   "execution_count": null,
   "metadata": {},
   "outputs": [],
   "source": [
    "bebida = input(\"Qual é sua bebida favorita\")\n",
    "preco = float(input(\"Digite o preço\"))\n",
    "idade = int(input(\"digite sua idade\"))\n",
    "\n",
    "print(f\"Bebida favorita é {bebida}\")\n",
    "print(f\"O preço é {preco}\")\n",
    "print(f\"Sua idade é {idade}\")"
   ]
  },
  {
   "cell_type": "markdown",
   "metadata": {},
   "source": [
    "# Novo Exercício"
   ]
  },
  {
   "cell_type": "code",
   "execution_count": null,
   "metadata": {},
   "outputs": [],
   "source": [
    "preco_prato = float(input(\"Digite o valor do prato?\"))\n",
    "preco_bebida = float(input(\"Digite o valor da bebida?\"))\n",
    "preco_sobremesa = float(input(\"Digite o valor da sobremesa?\"))\n",
    "carteira = float(input(\"Quanto você tem na carteira?\"))\n",
    "gorjeta = float(input(\"Qual é o valor da gorjeta? (em porcentagem)\"))\n",
    "bom_amigo = input(\"Tem um bom amigo? (s) sim, (n) não\")\n",
    "\n",
    "if bom_amigo == \"s\":\n",
    "    bom_amigo = True\n",
    "else:\n",
    "    bom_amigo = False\n",
    "\n",
    "valor_total = (preco_prato + preco_bebida + preco_sobremesa) * (1 + (gorjeta / 100))\n",
    "print(f\"O valor total do pedido foi de R$ {valor_total:.2f}!\")\n",
    "print(f\"Você tem atualmente R$ {carteira:.2f}!\")\n",
    "\n",
    "if valor_total <= carteira:\n",
    "    carteira = carteira - valor_total\n",
    "    print(f\"Agora você tem R$ {carteira:.2f} na carteira!\")\n",
    "elif valor_total > carteira:\n",
    "    if bom_amigo:\n",
    "        carteira = carteira - valor_total\n",
    "        print(f\"Agora você deve para seu amigo R$ {carteira * -1:.2f} \")\n",
    "    else:\n",
    "        carteira = carteira - valor_total\n",
    "        print(f\"Você não tem mais dinheiro na carteira!\")\n",
    "        print(f\"Você vai lavar prato! e deve R$ {carteira * -1:.2f}!\")"
   ]
  },
  {
   "cell_type": "markdown",
   "metadata": {},
   "source": [
    "Precisamos imprimir um número para cada andar de um hotel de 20 andares. Porém, o dono do hotel é supersticioso e optou por não ter um 13ro andar.\n",
    "\n",
    "Escreva um código que imprima todos os números exceto o número 13.\n",
    "Escreva mais um código que resolva o mesmo problema, mas dessa vez usando o laço de repetição 'while'.\n",
    "\n",
    "Como desafio, imprima eles em ordem decrescente (20, 19, 18...)\n",
    "\n",
    "Trabalhe esse código em seu IDE, suba ele para sua conta no GitHub e compartilhe o link desse projeto no campo ao lado para que outros desenvolvedores possam analisá-lo."
   ]
  },
  {
   "cell_type": "code",
   "execution_count": null,
   "metadata": {},
   "outputs": [],
   "source": [
    "def describe_floors(build_size: int) -> None:\n",
    "    for floor in range(build_size, 0, -1):\n",
    "        if floor != 13:\n",
    "            print(f\"The floor is {floor}\")\n",
    "\n",
    "describe_floors(20)"
   ]
  },
  {
   "cell_type": "markdown",
   "metadata": {},
   "source": [
    "Faça uma função calculadora de dois números com três parâmetros: os dois primeiros serão os números da operação e o terceiro será a entrada que definirá a operação a ser executada. Considera a seguinte definição:\n",
    "1. Soma\n",
    "2. Subtração\n",
    "3. Multiplicação\n",
    "4. Divisão\n",
    "\n",
    "Caso seja inserido um número de operação que não exista, o resultado deverá ser 0.\n",
    "\n",
    "Trabalhe esse código em seu IDE, suba ele para sua conta no GitHub e compartilhe o link desse projeto no campo ao lado para que outros desenvolvedores possam analisá-lo."
   ]
  },
  {
   "cell_type": "code",
   "execution_count": null,
   "metadata": {},
   "outputs": [],
   "source": [
    "# Calculadora que recebe dois valores float e a operação (+, -, *, /). Caso seja divisão e o segundo valor for zero ele retorna uma mensagem com o erro\n",
    "def calculator(num1: float, num2: float, op: str):\n",
    "    if op == \"+\":\n",
    "        return num1 + num2\n",
    "    elif op == \"-\":\n",
    "        return num1 - num2\n",
    "    elif op == \"*\":\n",
    "        return num1 * num2\n",
    "    elif op == \"/\":\n",
    "        try:\n",
    "            return num1 / num2\n",
    "        except ZeroDivisionError as e:\n",
    "            return f\"Erro: {e}\"\n",
    "\n",
    "print(calculator(15, 0, \"/\"))"
   ]
  },
  {
   "cell_type": "markdown",
   "metadata": {},
   "source": [
    "# Aula de Array"
   ]
  },
  {
   "cell_type": "code",
   "execution_count": 46,
   "metadata": {},
   "outputs": [],
   "source": [
    "def achar_elemento(elem: str, arr: list) -> bool:\n",
    "    achou = False\n",
    "\n",
    "    for i in range(len(arr)):\n",
    "        if arr[i] == elem:\n",
    "            achou = True\n",
    "            print(f\"Encontramos o elemento {elem} na posição {i}\")\n",
    "        else:  \n",
    "            print(f\"Na posição {i} não foi encontrada o elemento {elem}\")\n",
    "\n",
    "    return achou\n",
    "\n",
    "def imprimir_lista(arr):\n",
    "    print(100*\"-\")\n",
    "    print(\"Pessoass na lista de desaparecidos:\")\n",
    "\n",
    "    if len(arr) == 0:\n",
    "        print(\"Ótimo, a lista está vazia!\")\n",
    "    else:\n",
    "        for i in range(len(arr)):\n",
    "            print(f\"{i}: {arr[i]}\")\n",
    "    print(100*\"-\")"
   ]
  },
  {
   "cell_type": "code",
   "execution_count": 47,
   "metadata": {},
   "outputs": [
    {
     "name": "stdout",
     "output_type": "stream",
     "text": [
      "----------------------------------------------------------------------------------------------------\n",
      "Procurando Pessoas:\n",
      "----------------------------------------------------------------------------------------------------\n",
      "Alex não foi encontrado e foi adicionado a lista dos Desaparecidos!\n",
      "----------------------------------------------------------------------------------------------------\n",
      "----------------------------------------------------------------------------------------------------\n",
      "Pessoass na lista de desaparecidos:\n",
      "0: Alex\n",
      "----------------------------------------------------------------------------------------------------\n",
      "----------------------------------------------------------------------------------------------------\n",
      "Procurando Pessoas:\n",
      "----------------------------------------------------------------------------------------------------\n",
      "Na posição 0 não foi encontrada o elemento João\n",
      "João não foi encontrado e foi adicionado a lista dos Desaparecidos!\n",
      "----------------------------------------------------------------------------------------------------\n",
      "----------------------------------------------------------------------------------------------------\n",
      "Pessoass na lista de desaparecidos:\n",
      "0: Alex\n",
      "1: João\n",
      "----------------------------------------------------------------------------------------------------\n",
      "----------------------------------------------------------------------------------------------------\n",
      "Procurando Pessoas:\n",
      "----------------------------------------------------------------------------------------------------\n",
      "Encontramos o elemento Alex na posição 0\n",
      "Na posição 1 não foi encontrada o elemento Alex\n",
      "Alex foi encontrado e removido da lista de desaparecidos!\n",
      "----------------------------------------------------------------------------------------------------\n",
      "----------------------------------------------------------------------------------------------------\n",
      "Pessoass na lista de desaparecidos:\n",
      "0: João\n",
      "----------------------------------------------------------------------------------------------------\n",
      "----------------------------------------------------------------------------------------------------\n",
      "Procurando Pessoas:\n",
      "----------------------------------------------------------------------------------------------------\n",
      "Encontramos o elemento João na posição 0\n",
      "João foi encontrado e removido da lista de desaparecidos!\n",
      "----------------------------------------------------------------------------------------------------\n",
      "----------------------------------------------------------------------------------------------------\n",
      "Pessoass na lista de desaparecidos:\n",
      "Ótimo, a lista está vazia!\n",
      "----------------------------------------------------------------------------------------------------\n",
      "----------------------------------------------------------------------------------------------------\n",
      "Pessoass na lista de desaparecidos:\n",
      "Ótimo, a lista está vazia!\n",
      "----------------------------------------------------------------------------------------------------\n",
      "Fim do programa\n"
     ]
    }
   ],
   "source": [
    "# pessoas = [\"Danilo\", \"Alex\", \"Eliakim\", \"Renêe\", \"Hugo\"]\n",
    "pessoas = []\n",
    "\n",
    "while True:\n",
    "    op = \"s\"\n",
    "    nome = input(\"Quem você quer procurar hoje? \")\n",
    "\n",
    "    print(100*\"-\")\n",
    "    print(\"Procurando Pessoas:\")\n",
    "    print(100*\"-\")\n",
    "    if achar_elemento(nome, pessoas):\n",
    "        pessoas.remove(nome)\n",
    "        print(f\"{nome} foi encontrado e removido da lista de desaparecidos!\")\n",
    "    else:\n",
    "        pessoas.append(nome)\n",
    "        print(f\"{nome} não foi encontrado e foi adicionado a lista dos Desaparecidos!\")\n",
    "    print(100*\"-\")\n",
    "\n",
    "    imprimir_lista(pessoas)\n",
    "\n",
    "    op = input('Quer continuar? s - sim | n - não')\n",
    "\n",
    "    if op == \"n\":\n",
    "        break\n",
    "\n",
    "imprimir_lista(pessoas)\n",
    "\n",
    "print(\"Fim do programa\")"
   ]
  },
  {
   "cell_type": "markdown",
   "metadata": {},
   "source": [
    "# Problema Loja"
   ]
  },
  {
   "cell_type": "code",
   "execution_count": 45,
   "metadata": {},
   "outputs": [
    {
     "name": "stdout",
     "output_type": "stream",
     "text": [
      "----------------------------------------------------------------------------------------------------\n",
      "Produto 01: Quantidade atualizada!\n",
      "Quantidade de 1 removida do produto 'Produto 01'.\n",
      "Produto 02: Quantidade atualizada!\n",
      "Quantidade de 2 adicionada do produto 'Produto 02'.\n",
      "----------------------------------------------------------------------------------------------------\n",
      "[['Produto 01', 4], ['Produto 02', 10], ['Produto 03', 10]]\n",
      "----------------------------------------------------------------------------------------------------\n"
     ]
    }
   ],
   "source": [
    "# Estoque da loja\n",
    "estoque = [\n",
    "    [\"Produto 01\", 5],\n",
    "    [\"Produto 02\", 8],\n",
    "]\n",
    "\n",
    "# Adiciona um produto ao estoque\n",
    "def adicionar_produto(produto: str, quantidade: int, arr: list) -> list:\n",
    "    return arr.append([produto, quantidade])\n",
    "\n",
    "# Altera a quantidade de um produto\n",
    "def alterar_quantidade_produto(produto: str, quantidade: int, arr: list):\n",
    "    if len(arr) != 0:\n",
    "        for elem in arr:\n",
    "            if elem[0] == produto:\n",
    "                elem[1] = elem[1] + quantidade\n",
    "                print(f\"{produto}: Quantidade atualizada!\")\n",
    "            \n",
    "    else:\n",
    "        print(\"Não é possível atualizar! Lista vazia!\")\n",
    "\n",
    "# Remove uma quantidade do produto\n",
    "def remover_quantidade_produto(produto: str, quantidade: int, arr: list):\n",
    "    alterar_quantidade_produto(produto, -1 * quantidade, arr)\n",
    "    print(f\"Quantidade de {quantidade} removida do produto '{produto}'.\")\n",
    "\n",
    "# adiciona uma quantidade do produto\n",
    "def adicionar_quantidade_produto(produto: str, quantidade: int, arr: list):\n",
    "    alterar_quantidade_produto(produto, quantidade, arr)\n",
    "    print(f\"Quantidade de {quantidade} adicionada do produto '{produto}'.\")\n",
    "\n",
    "adicionar_produto(\"Produto 03\", 10, estoque)\n",
    "print(100*\"-\")\n",
    "\n",
    "remover_quantidade_produto(\"Produto 01\", 1, estoque)\n",
    "adicionar_quantidade_produto(\"Produto 02\", 2, estoque)\n",
    "\n",
    "print(100*\"-\")\n",
    "print(estoque)\n",
    "print(100*\"-\")"
   ]
  }
 ],
 "metadata": {
  "kernelspec": {
   "display_name": "playground",
   "language": "python",
   "name": "python3"
  },
  "language_info": {
   "codemirror_mode": {
    "name": "ipython",
    "version": 3
   },
   "file_extension": ".py",
   "mimetype": "text/x-python",
   "name": "python",
   "nbconvert_exporter": "python",
   "pygments_lexer": "ipython3",
   "version": "3.11.4"
  }
 },
 "nbformat": 4,
 "nbformat_minor": 2
}
