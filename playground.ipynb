{
 "cells": [
  {
   "cell_type": "code",
   "execution_count": 1,
   "metadata": {},
   "outputs": [
    {
     "name": "stdout",
     "output_type": "stream",
     "text": [
      "Bebida favorita é Coca Cola\n",
      "O preço é 8.0\n",
      "Sua idade é 39\n"
     ]
    }
   ],
   "source": [
    "bebida = input(\"Qual é sua bebida favorita\")\n",
    "preco = float(input(\"Digite o preço\"))\n",
    "idade = int(input(\"digite sua idade\"))\n",
    "\n",
    "print(f\"Bebida favorita é {bebida}\")\n",
    "print(f\"O preço é {preco}\")\n",
    "print(f\"Sua idade é {idade}\")"
   ]
  },
  {
   "cell_type": "markdown",
   "metadata": {},
   "source": [
    "# Novo Exercício"
   ]
  },
  {
   "cell_type": "code",
   "execution_count": 11,
   "metadata": {},
   "outputs": [
    {
     "name": "stdout",
     "output_type": "stream",
     "text": [
      "O valor total do pedido foi de R$ 53.90!\n",
      "Você tem atualmente R$ 50.00!\n",
      "Agora você deve para seu amigo R$ 3.90 \n"
     ]
    }
   ],
   "source": [
    "preco_prato = float(input(\"Digite o valor do prato?\"))\n",
    "preco_bebida = float(input(\"Digite o valor da bebida?\"))\n",
    "preco_sobremesa = float(input(\"Digite o valor da sobremesa?\"))\n",
    "carteira = float(input(\"Quanto você tem na carteira?\"))\n",
    "gorjeta = float(input(\"Qual é o valor da gorjeta? (em porcentagem)\"))\n",
    "bom_amigo = input(\"Tem um bom amigo? (s) sim, (n) não\")\n",
    "\n",
    "if bom_amigo == \"s\":\n",
    "    bom_amigo = True\n",
    "else:\n",
    "    bom_amigo = False\n",
    "\n",
    "valor_total = (preco_prato + preco_bebida + preco_sobremesa) * (1 + (gorjeta / 100))\n",
    "print(f\"O valor total do pedido foi de R$ {valor_total:.2f}!\")\n",
    "print(f\"Você tem atualmente R$ {carteira:.2f}!\")\n",
    "\n",
    "if valor_total <= carteira:\n",
    "    carteira = carteira - valor_total\n",
    "    print(f\"Agora você tem R$ {carteira:.2f} na carteira!\")\n",
    "elif valor_total > carteira:\n",
    "    if bom_amigo:\n",
    "        carteira = carteira - valor_total\n",
    "        print(f\"Agora você deve para seu amigo R$ {carteira * -1:.2f} \")\n",
    "    else:\n",
    "        carteira = carteira - valor_total\n",
    "        print(f\"Você não tem mais dinheiro na carteira!\")\n",
    "        print(f\"Você vai lavar prato! e deve R$ {carteira * -1:.2f}!\")"
   ]
  }
 ],
 "metadata": {
  "kernelspec": {
   "display_name": "playground",
   "language": "python",
   "name": "python3"
  },
  "language_info": {
   "codemirror_mode": {
    "name": "ipython",
    "version": 3
   },
   "file_extension": ".py",
   "mimetype": "text/x-python",
   "name": "python",
   "nbconvert_exporter": "python",
   "pygments_lexer": "ipython3",
   "version": "3.10.12"
  }
 },
 "nbformat": 4,
 "nbformat_minor": 2
}
