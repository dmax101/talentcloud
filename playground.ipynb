{
 "cells": [
  {
   "cell_type": "code",
   "execution_count": null,
   "metadata": {},
   "outputs": [],
   "source": [
    "bebida = input(\"Qual é sua bebida favorita\")\n",
    "preco = float(input(\"Digite o preço\"))\n",
    "idade = int(input(\"digite sua idade\"))\n",
    "\n",
    "print(f\"Bebida favorita é {bebida}\")\n",
    "print(f\"O preço é {preco}\")\n",
    "print(f\"Sua idade é {idade}\")"
   ]
  },
  {
   "cell_type": "markdown",
   "metadata": {},
   "source": [
    "# Novo Exercício"
   ]
  },
  {
   "cell_type": "code",
   "execution_count": null,
   "metadata": {},
   "outputs": [],
   "source": [
    "preco_prato = float(input(\"Digite o valor do prato?\"))\n",
    "preco_bebida = float(input(\"Digite o valor da bebida?\"))\n",
    "preco_sobremesa = float(input(\"Digite o valor da sobremesa?\"))\n",
    "carteira = float(input(\"Quanto você tem na carteira?\"))\n",
    "gorjeta = float(input(\"Qual é o valor da gorjeta? (em porcentagem)\"))\n",
    "bom_amigo = input(\"Tem um bom amigo? (s) sim, (n) não\")\n",
    "\n",
    "if bom_amigo == \"s\":\n",
    "    bom_amigo = True\n",
    "else:\n",
    "    bom_amigo = False\n",
    "\n",
    "valor_total = (preco_prato + preco_bebida + preco_sobremesa) * (1 + (gorjeta / 100))\n",
    "print(f\"O valor total do pedido foi de R$ {valor_total:.2f}!\")\n",
    "print(f\"Você tem atualmente R$ {carteira:.2f}!\")\n",
    "\n",
    "if valor_total <= carteira:\n",
    "    carteira = carteira - valor_total\n",
    "    print(f\"Agora você tem R$ {carteira:.2f} na carteira!\")\n",
    "elif valor_total > carteira:\n",
    "    if bom_amigo:\n",
    "        carteira = carteira - valor_total\n",
    "        print(f\"Agora você deve para seu amigo R$ {carteira * -1:.2f} \")\n",
    "    else:\n",
    "        carteira = carteira - valor_total\n",
    "        print(f\"Você não tem mais dinheiro na carteira!\")\n",
    "        print(f\"Você vai lavar prato! e deve R$ {carteira * -1:.2f}!\")"
   ]
  },
  {
   "cell_type": "markdown",
   "metadata": {},
   "source": [
    "Precisamos imprimir um número para cada andar de um hotel de 20 andares. Porém, o dono do hotel é supersticioso e optou por não ter um 13ro andar.\n",
    "\n",
    "Escreva um código que imprima todos os números exceto o número 13.\n",
    "Escreva mais um código que resolva o mesmo problema, mas dessa vez usando o laço de repetição 'while'.\n",
    "\n",
    "Como desafio, imprima eles em ordem decrescente (20, 19, 18...)\n",
    "\n",
    "Trabalhe esse código em seu IDE, suba ele para sua conta no GitHub e compartilhe o link desse projeto no campo ao lado para que outros desenvolvedores possam analisá-lo."
   ]
  },
  {
   "cell_type": "code",
   "execution_count": null,
   "metadata": {},
   "outputs": [],
   "source": [
    "def describe_floors(build_size: int) -> None:\n",
    "    for floor in range(build_size, 0, -1):\n",
    "        if floor != 13:\n",
    "            print(f\"The floor is {floor}\")\n",
    "\n",
    "describe_floors(20)"
   ]
  },
  {
   "cell_type": "markdown",
   "metadata": {},
   "source": [
    "Faça uma função calculadora de dois números com três parâmetros: os dois primeiros serão os números da operação e o terceiro será a entrada que definirá a operação a ser executada. Considera a seguinte definição:\n",
    "1. Soma\n",
    "2. Subtração\n",
    "3. Multiplicação\n",
    "4. Divisão\n",
    "\n",
    "Caso seja inserido um número de operação que não exista, o resultado deverá ser 0.\n",
    "\n",
    "Trabalhe esse código em seu IDE, suba ele para sua conta no GitHub e compartilhe o link desse projeto no campo ao lado para que outros desenvolvedores possam analisá-lo."
   ]
  },
  {
   "cell_type": "code",
   "execution_count": 3,
   "metadata": {},
   "outputs": [
    {
     "name": "stdout",
     "output_type": "stream",
     "text": [
      "Erro: division by zero\n"
     ]
    }
   ],
   "source": [
    "# Calculadora que recebe dois valores float e a operação (+, -, *, /). Caso seja divisão e o segundo valor for zero ele retorna uma mensagem com o erro\n",
    "def calculator(num1: float, num2: float, op: str):\n",
    "    if op == \"+\":\n",
    "        return num1 + num2\n",
    "    elif op == \"-\":\n",
    "        return num1 - num2\n",
    "    elif op == \"*\":\n",
    "        return num1 * num2\n",
    "    elif op == \"/\":\n",
    "        try:\n",
    "            return num1 / num2\n",
    "        except ZeroDivisionError as e:\n",
    "            return f\"Erro: {e}\"\n",
    "\n",
    "print(calculator(15, 0, \"/\"))"
   ]
  }
 ],
 "metadata": {
  "kernelspec": {
   "display_name": "playground",
   "language": "python",
   "name": "python3"
  },
  "language_info": {
   "codemirror_mode": {
    "name": "ipython",
    "version": 3
   },
   "file_extension": ".py",
   "mimetype": "text/x-python",
   "name": "python",
   "nbconvert_exporter": "python",
   "pygments_lexer": "ipython3",
   "version": "3.11.4"
  }
 },
 "nbformat": 4,
 "nbformat_minor": 2
}
